{
  "nbformat": 4,
  "nbformat_minor": 0,
  "metadata": {
    "colab": {
      "name": "generate_google_images_from_API.ipynb",
      "provenance": [],
      "collapsed_sections": [],
      "include_colab_link": true
    },
    "kernelspec": {
      "name": "python3",
      "display_name": "Python 3"
    }
  },
  "cells": [
    {
      "cell_type": "markdown",
      "metadata": {
        "id": "view-in-github",
        "colab_type": "text"
      },
      "source": [
        "<a href=\"https://colab.research.google.com/github/anishnarkar/DS5500/blob/master/generate_google_images_from_API.ipynb\" target=\"_parent\"><img src=\"https://colab.research.google.com/assets/colab-badge.svg\" alt=\"Open In Colab\"/></a>"
      ]
    },
    {
      "cell_type": "code",
      "metadata": {
        "id": "EykcbbZaoORI",
        "colab_type": "code",
        "colab": {}
      },
      "source": [
        "import urllib.request \n",
        "import random\n",
        "import os"
      ],
      "execution_count": 0,
      "outputs": []
    },
    {
      "cell_type": "code",
      "metadata": {
        "id": "GIFFg7YrpgV1",
        "colab_type": "code",
        "outputId": "e2bb9002-cfbc-411c-c359-5408e6d40ce9",
        "colab": {
          "base_uri": "https://localhost:8080/",
          "height": 34
        }
      },
      "source": [
        "os.getcwd()"
      ],
      "execution_count": 0,
      "outputs": [
        {
          "output_type": "execute_result",
          "data": {
            "text/plain": [
              "'/content'"
            ]
          },
          "metadata": {
            "tags": []
          },
          "execution_count": 2
        }
      ]
    },
    {
      "cell_type": "code",
      "metadata": {
        "id": "UUbq7hOMphih",
        "colab_type": "code",
        "colab": {}
      },
      "source": [
        "from google.colab import drive\n",
        "drive.mount('/content/drive')"
      ],
      "execution_count": 0,
      "outputs": []
    },
    {
      "cell_type": "code",
      "metadata": {
        "id": "XikY9azTF_Gx",
        "colab_type": "code",
        "colab": {
          "base_uri": "https://localhost:8080/",
          "height": 52
        },
        "outputId": "5bae8778-8a84-412e-f66a-2ac762f29066"
      },
      "source": [
        "import getpass \n",
        "  \n",
        "try: \n",
        "    googleKey = getpass.getpass() \n",
        "except Exception as error: \n",
        "    print('ERROR', error) \n",
        "else: \n",
        "    print('Password entered') "
      ],
      "execution_count": 2,
      "outputs": [
        {
          "output_type": "stream",
          "text": [
            "··········\n",
            "Password entered:\n"
          ],
          "name": "stdout"
        }
      ]
    },
    {
      "cell_type": "code",
      "metadata": {
        "id": "vFw2hL6WoVmJ",
        "colab_type": "code",
        "colab": {}
      },
      "source": [
        "location = []\n",
        "\n",
        "i=0\n",
        "j=0\n",
        "while j<1000:\n",
        "  random.seed(i)\n",
        "  lat_lon = [random.randrange(42.205233*(10**6),\n",
        "                              42.452345*(10**6),6000)/10**6,\n",
        "             -random.randrange(71.552134*(10**6),\n",
        "                               71.896785*(10**6),6000)/10**6]\n",
        "\n",
        "  if lat_lon not in location:\n",
        "    location.append(lat_lon)\n",
        "    j = j+1\n",
        "  \n",
        "  i=i+1"
      ],
      "execution_count": 0,
      "outputs": []
    },
    {
      "cell_type": "code",
      "metadata": {
        "id": "UcKSROy5qsnn",
        "colab_type": "code",
        "colab": {}
      },
      "source": [
        "os.chdir('/content/drive/My Drive/DS 5500/Data/PSdata')"
      ],
      "execution_count": 0,
      "outputs": []
    },
    {
      "cell_type": "code",
      "metadata": {
        "id": "05b_hPM2o65d",
        "colab_type": "code",
        "colab": {}
      },
      "source": [
        "os.makedirs('Google_Images/satellite_950/', exist_ok=True)\n",
        "os.makedirs('Google_Images/street_950/', exist_ok=True)\n",
        "os.makedirs('Google_Images/mask_950/', exist_ok=True)"
      ],
      "execution_count": 0,
      "outputs": []
    },
    {
      "cell_type": "code",
      "metadata": {
        "id": "ZXeCsHExzVw-",
        "colab_type": "code",
        "colab": {}
      },
      "source": [
        "os.makedirs('Google_Images/satellite_50/', exist_ok=True)\n",
        "os.makedirs('Google_Images/street_50/', exist_ok=True)\n",
        "os.makedirs('Google_Images/mask_50/', exist_ok=True)"
      ],
      "execution_count": 0,
      "outputs": []
    },
    {
      "cell_type": "code",
      "metadata": {
        "id": "DIZScU3NrY--",
        "colab_type": "code",
        "colab": {}
      },
      "source": [
        "for i in range(0,950):\n",
        "  #for mask\n",
        "  urllib.request.urlretrieve(\"https://maps.googleapis.com/maps/api/staticmap?center=\"+str(location[i][0])+\",\"+str(location[i][1])+\"&zoom=17&size=550x550&scale=2&style=feature:road%7Celement:geometry%7Ccolor:ffffffff&style=feature:landscape%7Celement:geometry.fill%7Ccolor:0x000000&style=feature:administrative%7Celement:geometry.fill%7Ccolor:0x000000&style=feature:transit%7Celement:geometry.fill%7Ccolor:0x000000&style=feature:water%7Celement:geometry.fill%7Ccolor:0x000000&style=feature:poi%7Celement:geometry.fill%7Ccolor:0x000000&style=feature:all|element:labels|visibility:off&key=\"+googleKey+\",\n",
        "                             \"Google_Images/mask_950/\"+\"{:02d}\".format(i)+\".jpg\")\n",
        "  \n",
        "  #for street\n",
        "  urllib.request.urlretrieve(\"https://maps.googleapis.com/maps/api/staticmap?center=\"+str(location[i][0])+\",\"+str(location[i][1])+\"&zoom=17&size=550x550&scale=2&maptype=street&style=feature:all|element:labels|visibility:off&key=\"+googleKey+\",\n",
        "                             \"Google_Images/street_950/\"+\"{:02d}\".format(i)+\".jpg\")\n",
        "  \n",
        "  #for satellite\n",
        "  urllib.request.urlretrieve(\"https://maps.googleapis.com/maps/api/staticmap?center=\"+str(location[i][0])+\",\"+str(location[i][1])+\"&zoom=17&size=550x550&scale=2&maptype=satellite&style=feature:all|element:labels|visibility:off&key=\"+googleKey+\",\n",
        "                             \"Google_Images/satellite_950/\"+\"{:02d}\".format(i)+\".jpg\")\n"
      ],
      "execution_count": 0,
      "outputs": []
    },
    {
      "cell_type": "code",
      "metadata": {
        "id": "i7lUcCc4zvxD",
        "colab_type": "code",
        "colab": {}
      },
      "source": [
        "for i in range(950,1000):\n",
        "  #for mask\n",
        "  urllib.request.urlretrieve(\"https://maps.googleapis.com/maps/api/staticmap?center=\"+str(location[i][0])+\",\"+str(location[i][1])+\"&zoom=17&size=550x550&scale=2&style=feature:road%7Celement:geometry%7Ccolor:ffffffff&style=feature:landscape%7Celement:geometry.fill%7Ccolor:0x000000&style=feature:administrative%7Celement:geometry.fill%7Ccolor:0x000000&style=feature:transit%7Celement:geometry.fill%7Ccolor:0x000000&style=feature:water%7Celement:geometry.fill%7Ccolor:0x000000&style=feature:poi%7Celement:geometry.fill%7Ccolor:0x000000&style=feature:all|element:labels|visibility:off&key=\"+googleKey+\",\n",
        "                             \"Google_Images/mask_50/\"+\"{:02d}\".format(i)+\".jpg\")\n",
        "  \n",
        "  #for street\n",
        "  urllib.request.urlretrieve(\"https://maps.googleapis.com/maps/api/staticmap?center=\"+str(location[i][0])+\",\"+str(location[i][1])+\"&zoom=17&size=550x550&scale=2&maptype=street&style=feature:all|element:labels|visibility:off&key=\"+googleKey+\",\n",
        "                             \"Google_Images/street_50/\"+\"{:02d}\".format(i)+\".jpg\")\n",
        "  \n",
        "  #for satellite\n",
        "  urllib.request.urlretrieve(\"https://maps.googleapis.com/maps/api/staticmap?center=\"+str(location[i][0])+\",\"+str(location[i][1])+\"&zoom=17&size=550x550&scale=2&maptype=satellite&style=feature:all|element:labels|visibility:off&key=\"+googleKey+\",\n",
        "                             \"Google_Images/satellite_50/\"+\"{:02d}\".format(i)+\".jpg\")\n"
      ],
      "execution_count": 0,
      "outputs": []
    }
  ]
}