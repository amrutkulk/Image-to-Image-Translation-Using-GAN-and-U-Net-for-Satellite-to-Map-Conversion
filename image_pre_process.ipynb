{
  "nbformat": 4,
  "nbformat_minor": 0,
  "metadata": {
    "colab": {
      "name": "image_pre_process.ipynb",
      "provenance": [],
      "include_colab_link": true
    },
    "kernelspec": {
      "name": "python3",
      "display_name": "Python 3"
    },
    "accelerator": "GPU"
  },
  "cells": [
    {
      "cell_type": "markdown",
      "metadata": {
        "id": "view-in-github",
        "colab_type": "text"
      },
      "source": [
        "<a href=\"https://colab.research.google.com/github/anishnarkar/DS5500/blob/master/image_pre_process.ipynb\" target=\"_parent\"><img src=\"https://colab.research.google.com/assets/colab-badge.svg\" alt=\"Open In Colab\"/></a>"
      ]
    },
    {
      "cell_type": "code",
      "metadata": {
        "id": "k6oXKWvY-mXf",
        "colab_type": "code",
        "outputId": "c3bcb83a-9eb4-4bcb-bd88-1ad08939ca1a",
        "colab": {
          "base_uri": "https://localhost:8080/",
          "height": 122
        }
      },
      "source": [
        "from google.colab import drive\n",
        "drive.mount('/content/drive')"
      ],
      "execution_count": 0,
      "outputs": [
        {
          "output_type": "stream",
          "text": [
            "Go to this URL in a browser: https://accounts.google.com/o/oauth2/auth?client_id=947318989803-6bn6qk8qdgf4n4g3pfee6491hc0brc4i.apps.googleusercontent.com&redirect_uri=urn%3Aietf%3Awg%3Aoauth%3A2.0%3Aoob&scope=email%20https%3A%2F%2Fwww.googleapis.com%2Fauth%2Fdocs.test%20https%3A%2F%2Fwww.googleapis.com%2Fauth%2Fdrive%20https%3A%2F%2Fwww.googleapis.com%2Fauth%2Fdrive.photos.readonly%20https%3A%2F%2Fwww.googleapis.com%2Fauth%2Fpeopleapi.readonly&response_type=code\n",
            "\n",
            "Enter your authorization code:\n",
            "··········\n",
            "Mounted at /content/drive\n"
          ],
          "name": "stdout"
        }
      ]
    },
    {
      "cell_type": "code",
      "metadata": {
        "id": "ipL84AjT-rPU",
        "colab_type": "code",
        "colab": {}
      },
      "source": [
        "%%capture\n",
        "!pip install segmentation_models"
      ],
      "execution_count": 0,
      "outputs": []
    },
    {
      "cell_type": "code",
      "metadata": {
        "id": "xiFlnYXC_EmT",
        "colab_type": "code",
        "outputId": "09b2ec81-afc2-4c33-fda7-fee0a97d87ca",
        "colab": {
          "base_uri": "https://localhost:8080/",
          "height": 97
        }
      },
      "source": [
        "from PIL import Image\n",
        "import numpy as np\n",
        "from PIL import ImageOps\n",
        "import glob\n",
        "import os\n",
        "from matplotlib import pyplot as plt\n",
        "from segmentation_models import Unet\n",
        "from segmentation_models.losses import bce_jaccard_loss\n",
        "from segmentation_models.metrics import iou_score\n",
        "from PIL import Image, ImageEnhance"
      ],
      "execution_count": 0,
      "outputs": [
        {
          "output_type": "stream",
          "text": [
            "Using TensorFlow backend.\n"
          ],
          "name": "stderr"
        },
        {
          "output_type": "display_data",
          "data": {
            "text/html": [
              "<p style=\"color: red;\">\n",
              "The default version of TensorFlow in Colab will soon switch to TensorFlow 2.x.<br>\n",
              "We recommend you <a href=\"https://www.tensorflow.org/guide/migrate\" target=\"_blank\">upgrade</a> now \n",
              "or ensure your notebook will continue to use TensorFlow 1.x via the <code>%tensorflow_version 1.x</code> magic:\n",
              "<a href=\"https://colab.research.google.com/notebooks/tensorflow_version.ipynb\" target=\"_blank\">more info</a>.</p>\n"
            ],
            "text/plain": [
              "<IPython.core.display.HTML object>"
            ]
          },
          "metadata": {
            "tags": []
          }
        },
        {
          "output_type": "stream",
          "text": [
            "Segmentation Models: using `keras` framework.\n"
          ],
          "name": "stdout"
        }
      ]
    },
    {
      "cell_type": "code",
      "metadata": {
        "id": "H0l75hnF-sW1",
        "colab_type": "code",
        "colab": {}
      },
      "source": [
        "def imageProcessor(path_in,path_out,i,resolution_x=512,resolution_y=512,border_bottom=40,convert='0'):\n",
        "    #Read image using PIL\n",
        "    im = Image.open(path_in+\"{:02d}\".format(i)+\".jpg\")\n",
        "    #Crop of the bottom border \n",
        "    border = (0, 0, 0, border_bottom) # left, up, right, bottom\n",
        "    im = ImageOps.crop(im, border)\n",
        "    #downsize images to required aspect ratio\n",
        "    im = im.resize((512, 512), Image.ANTIALIAS)\n",
        "    im = im.convert('L')\n",
        "    im = ImageOps.invert(im)\n",
        "    im = ImageEnhance.Contrast(im).enhance(6)\n",
        "    return im.save(path_out+\"{:02d}\".format(i)+\".png\",\"PNG\")"
      ],
      "execution_count": 0,
      "outputs": []
    },
    {
      "cell_type": "code",
      "metadata": {
        "id": "JYZYqg2j7QhW",
        "colab_type": "code",
        "colab": {}
      },
      "source": [
        "os.makedirs('/content/drive/My Drive/DS 5500/Data/PSdata/Google_Images/processed', exist_ok=True)\n",
        "os.chdir('/content/drive/My Drive/DS 5500/Data/PSdata/Google_Images/processed')"
      ],
      "execution_count": 0,
      "outputs": []
    },
    {
      "cell_type": "code",
      "metadata": {
        "id": "QAGRTHtb6-ya",
        "colab_type": "code",
        "colab": {}
      },
      "source": [
        "os.makedirs('satellite_950/', exist_ok=True)\n",
        "os.makedirs('street_950/', exist_ok=True)\n",
        "os.makedirs('mask_950/', exist_ok=True)\n",
        "\n",
        "os.makedirs('satellite_50/', exist_ok=True)\n",
        "os.makedirs('street_50/', exist_ok=True)\n",
        "os.makedirs('mask_50/', exist_ok=True)"
      ],
      "execution_count": 0,
      "outputs": []
    },
    {
      "cell_type": "code",
      "metadata": {
        "id": "eZVnSXUFwzvG",
        "colab_type": "code",
        "colab": {}
      },
      "source": [
        "for i in range(0,950):\n",
        "    imageProcessor(\"/content/drive/My Drive/DS 5500/Data/PSdata/Google_Images/satellite_950/\",\n",
        "                  \"satellite_950/\",\n",
        "                   i,resolution_x=512,resolution_y=512,border_bottom=40,convert='0')\n",
        "    if i%10==0:\n",
        "        print(i)\n",
        "\n",
        "\n",
        "for i in range(950,1000):\n",
        "    imageProcessor(\"/content/drive/My Drive/DS 5500/Data/PSdata/Google_Images/satellite_50/\",\n",
        "                  \"satellite_50/\",\n",
        "                   i,resolution_x=512,resolution_y=512,border_bottom=40,convert='0')\n",
        "    if i%10==0:\n",
        "        print(i)"
      ],
      "execution_count": 0,
      "outputs": []
    },
    {
      "cell_type": "code",
      "metadata": {
        "id": "QEKeb-dy-Tmm",
        "colab_type": "code",
        "colab": {}
      },
      "source": [
        "for i in range(0,950):\n",
        "    imageProcessor(\"/content/drive/My Drive/DS 5500/Data/PSdata/Google_Images/mask_950/\",\n",
        "                  \"mask_950/\",\n",
        "                   i,resolution_x=512,resolution_y=512,border_bottom=40,convert='0')\n",
        "    if i%10==0:\n",
        "        print(i)\n",
        "\n",
        "\n",
        "for i in range(950,1000):\n",
        "    imageProcessor(\"/content/drive/My Drive/DS 5500/Data/PSdata/Google_Images/mask_50/\",\n",
        "                  \"mask_50/\",\n",
        "                   i,resolution_x=512,resolution_y=512,border_bottom=40,convert='0')\n",
        "    if i%10==0:\n",
        "        print(i)"
      ],
      "execution_count": 0,
      "outputs": []
    },
    {
      "cell_type": "code",
      "metadata": {
        "id": "HoBXDBA5_LvQ",
        "colab_type": "code",
        "colab": {}
      },
      "source": [
        "def imageCrop(path_in,path_out,i,resolution_x=512,resolution_y=512,border_bottom=40,convert='0'):\n",
        "    #Read image using PIL\n",
        "    im = Image.open(path_in+\"{:02d}\".format(i)+\".jpg\")\n",
        "    #Crop of the bottom border \n",
        "    border = (0, 0, 0, border_bottom) # left, up, right, bottom\n",
        "    im = ImageOps.crop(im, border)\n",
        "    #downsize images to required aspect ratio\n",
        "    im = im.resize((512, 512), Image.ANTIALIAS)\n",
        "    return im.save(path_out+\"{:02d}\".format(i)+\".png\",\"PNG\")"
      ],
      "execution_count": 0,
      "outputs": []
    },
    {
      "cell_type": "code",
      "metadata": {
        "id": "V3L0DRU3_X0I",
        "colab_type": "code",
        "colab": {}
      },
      "source": [
        "for i in range(0,950):\n",
        "    imageCrop(\"/content/drive/My Drive/DS 5500/Data/PSdata/Google_Images/street_950/\",\n",
        "                  \"street_950/\",\n",
        "                   i,resolution_x=512,resolution_y=512,border_bottom=40,convert='0')\n",
        "    if i%10==0:\n",
        "        print(i)\n",
        "\n",
        "\n",
        "for i in range(950,1000):\n",
        "    imageCrop(\"/content/drive/My Drive/DS 5500/Data/PSdata/Google_Images/street_50/\",\n",
        "                  \"street_50/\",\n",
        "                   i,resolution_x=512,resolution_y=512,border_bottom=40,convert='0')\n",
        "    if i%10==0:\n",
        "        print(i)"
      ],
      "execution_count": 0,
      "outputs": []
    },
    {
      "cell_type": "code",
      "metadata": {
        "id": "pqQlz8IjQ2ld",
        "colab_type": "code",
        "colab": {}
      },
      "source": [
        "# os.makedirs(\"gdrive/My Drive/DS 5500/Data/Google_Images/processed_satellite_1000\",exist_ok=True)\n",
        "\n",
        "# for i in range(0,1000):\n",
        "#     imageProcessor(\"gdrive/My Drive/DS 5500/Data/Google_Images/satellite_1000/\",\n",
        "#                   \"gdrive/My Drive/DS 5500/Data/Google_Images/processed_satellite_1000/\",\n",
        "#                    i,resolution_x=512,resolution_y=512,border_bottom=40,convert='0')"
      ],
      "execution_count": 0,
      "outputs": []
    },
    {
      "cell_type": "code",
      "metadata": {
        "id": "XfwjBSt0R1lu",
        "colab_type": "code",
        "colab": {}
      },
      "source": [
        "# os.makedirs(\"gdrive/My Drive/DS 5500/Data/Google_Images/processed_mask_1000\",exist_ok=True)\n",
        "\n",
        "# for i in range(0,1000):\n",
        "#     imageProcessor(\"gdrive/My Drive/DS 5500/Data/Google_Images/mask_1000/\",\n",
        "#                   \"gdrive/My Drive/DS 5500/Data/Google_Images/processed_mask_1000/\",\n",
        "#                    i,resolution_x=512,resolution_y=512,border_bottom=40,convert='1')"
      ],
      "execution_count": 0,
      "outputs": []
    },
    {
      "cell_type": "code",
      "metadata": {
        "id": "5OSwY5jPga_9",
        "colab_type": "code",
        "colab": {}
      },
      "source": [
        "\n",
        "# os.makedirs(\"gdrive/My Drive/DS 5500/Data/Google_Images/processed_street_1000\",exist_ok=True)\n",
        "\n",
        "# for i in range(0,1000):\n",
        "#     imageProcessor(\"gdrive/My Drive/DS 5500/Data/Google_Images/street_1000/\",\n",
        "#                   \"gdrive/My Drive/DS 5500/Data/Google_Images/processed_street_1000/\",\n",
        "#                    i,resolution_x=512,resolution_y=512,border_bottom=40,convert='1')"
      ],
      "execution_count": 0,
      "outputs": []
    },
    {
      "cell_type": "code",
      "metadata": {
        "id": "DUPj8xiBCdjk",
        "colab_type": "code",
        "colab": {}
      },
      "source": [
        "# files=sorted(glob.glob (\"gdrive/My Drive/DS 5500/Data/Google_Images/satellite/*.jpg\"))\n",
        "# os.makedirs(\"gdrive/My Drive/DS 5500/Data/Google_Images/processed_satellite\",exist_ok=True)\n",
        "# files=glob.glob (\"gdrive/My Drive/DS 5500/Data/Google_Images/satellite/*.jpg\")\n",
        "# for i,image in enumerate(files):\n",
        "#     image_processed = imageProcessor(image,512,512,50)\n",
        "#     image_processed.save(\"gdrive/My Drive/DS 5500/Data/Google_Images/processed_satellite/\"+str(i)+\".png\",\"PNG\")"
      ],
      "execution_count": 0,
      "outputs": []
    },
    {
      "cell_type": "code",
      "metadata": {
        "id": "EuBobPnfDiaO",
        "colab_type": "code",
        "colab": {}
      },
      "source": [
        "# os.makedirs(\"gdrive/My Drive/DS 5500/Data/Google_Images/processed_mask\",exist_ok=True)\n",
        "# files=sorted(glob.glob (\"gdrive/My Drive/DS 5500/Data/Google_Images/mask/*.jpg\"))\n",
        "# for i,image in enumerate(files):\n",
        "#     image_processed = imageProcessor(image,512,512,50,'1')\n",
        "#     image_processed.save(\"gdrive/My Drive/DS 5500/Data/Google_Images/processed_mask/\"+str(i)+\".png\",\"PNG\")"
      ],
      "execution_count": 0,
      "outputs": []
    },
    {
      "cell_type": "code",
      "metadata": {
        "id": "518EdZoaEQTF",
        "colab_type": "code",
        "colab": {}
      },
      "source": [
        "# os.makedirs(\"gdrive/My Drive/DS 5500/Data/Google_Images/processed_street\",exist_ok=True)\n",
        "# files=sorted(glob.glob (\"gdrive/My Drive/DS 5500/Data/Google_Images/street/*.jpg\"))\n",
        "# for i,image in enumerate(files):\n",
        "#     image_processed = imageProcessor(image,512,512,50)\n",
        "#     image_processed.save(\"gdrive/My Drive/DS 5500/Data/Google_Images/processed_street/\"+str(i)+\".png\",\"PNG\")"
      ],
      "execution_count": 0,
      "outputs": []
    },
    {
      "cell_type": "code",
      "metadata": {
        "id": "1O79RMtjQY2h",
        "colab_type": "code",
        "colab": {}
      },
      "source": [
        "# def read_images(path,num,mask=False):\n",
        "#   data = []\n",
        "#   for i in range(0,num):\n",
        "#     im = Image.open(path+\"{:02d}\".format(i)+\".jpg\")\n",
        "#     border = (0, 0, 0, 40)\n",
        "#     im = ImageOps.crop(im, border)\n",
        "#     im = im.resize((256, 256), Image.ANTIALIAS)\n",
        "#     if mask==True:\n",
        "#       im = im.convert('1')\n",
        "#     im = np.array(im.convert('RGB'))\n",
        "#     # im = plt.imread(image)\n",
        "#     data.append(im)\n",
        "\n",
        "#     if i%100==0:\n",
        "#       print(i)\n",
        " \n",
        "#   return data"
      ],
      "execution_count": 0,
      "outputs": []
    },
    {
      "cell_type": "code",
      "metadata": {
        "id": "Hn4c2bDZQ4Hf",
        "colab_type": "code",
        "outputId": "9b99a76b-9143-4306-a1cc-ce606b6b4c6d",
        "colab": {
          "base_uri": "https://localhost:8080/",
          "height": 69
        }
      },
      "source": [
        "# street = read_images(\"gdrive/My Drive/DS 5500/Data/Google_Images/street_1000/\",100)\n",
        "# satellite = read_images(\"gdrive/My Drive/DS 5500/Data/Google_Images/satellite_1000/\",100)\n",
        "# mask = read_images(\"gdrive/My Drive/DS 5500/Data/Google_Images/mask_1000/\",100,True)"
      ],
      "execution_count": 0,
      "outputs": [
        {
          "output_type": "stream",
          "text": [
            "0\n",
            "0\n",
            "0\n"
          ],
          "name": "stdout"
        }
      ]
    },
    {
      "cell_type": "code",
      "metadata": {
        "id": "Q85VdAEDKQ28",
        "colab_type": "code",
        "colab": {}
      },
      "source": [
        "#  def train_val_test(dataset,train_thres,val_thres,test_thres):\n",
        "#   train = dataset[0:int(len(dataset)*train_thres)]\n",
        "#   val   = dataset[int(len(dataset)*train_thres):int(len(dataset)*val_thres)]\n",
        "#   test  = dataset[int(len(dataset)*val_thres):int(len(dataset)*test_thres)]\n",
        "#   # return train,val,test\n",
        "#   return np.array(train),np.array(val),np.array(test)\n"
      ],
      "execution_count": 0,
      "outputs": []
    }
  ]
}